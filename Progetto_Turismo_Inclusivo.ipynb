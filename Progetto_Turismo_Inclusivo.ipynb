{
  "nbformat": 4,
  "nbformat_minor": 0,
  "metadata": {
    "colab": {
      "provenance": [],
      "authorship_tag": "ABX9TyOyBIUM4OD8Vtir6iiiOKD2",
      "include_colab_link": true
    },
    "kernelspec": {
      "name": "python3",
      "display_name": "Python 3"
    },
    "language_info": {
      "name": "python"
    }
  },
  "cells": [
    {
      "cell_type": "markdown",
      "metadata": {
        "id": "view-in-github",
        "colab_type": "text"
      },
      "source": [
        "<a href=\"https://colab.research.google.com/github/Manueladepalma/ESERCIZIO_MANUELA_DEPALMA.ZIP/blob/main/Progetto_Turismo_Inclusivo.ipynb\" target=\"_parent\"><img src=\"https://colab.research.google.com/assets/colab-badge.svg\" alt=\"Open In Colab\"/></a>"
      ]
    },
    {
      "cell_type": "code",
      "source": [
        "import pandas as pd\n",
        "\n",
        "# Creazione di un dataset simulato\n",
        "data = {\n",
        "    'Nome': [\n",
        "        'Hotel Roma Centro',\n",
        "        'B&B Trastevere',\n",
        "        'Hotel Piazza Venezia',\n",
        "        'Guesthouse Vaticano',\n",
        "        'Boutique Hotel Colosseo'\n",
        "    ],\n",
        "    'Descrizione': [\n",
        "        'Accessibile con rampe e ascensore',\n",
        "        'Non accessibile per persone con disabilità',\n",
        "        'Accessibile con rampe, servizi per ipovedenti',\n",
        "        'Parzialmente accessibile, ascensore assente',\n",
        "        'Completamente accessibile, certificazione inclusiva'\n",
        "    ],\n",
        "    'Prezzo': [\n",
        "        '120€ per notte',\n",
        "        '80€ per notte',\n",
        "        '150€ per notte',\n",
        "        '90€ per notte',\n",
        "        '200€ per notte'\n",
        "    ]\n",
        "}\n",
        "\n",
        "# Creazione del DataFrame\n",
        "df = pd.DataFrame(data)\n",
        "\n",
        "# Salva il dataset su Google Drive come CSV\n",
        "df.to_csv('/content/drive/MyDrive/strutture_simulate.csv', index=False)\n",
        "print(\"Dataset simulato salvato su Google Drive!\")\n",
        "\n",
        "# Analisi dei dati\n",
        "df['Accessibile'] = df['Descrizione'].apply(lambda x: 'Sì' if 'accessibile' in x.lower() else 'No')\n",
        "\n",
        "# Visualizza le statistiche di accessibilità\n",
        "accessibilita_counts = df['Accessibile'].value_counts()\n",
        "print(\"Statistiche di accessibilità:\\n\", accessibilita_counts)\n",
        "\n",
        "# Visualizza un'anteprima del dataset\n",
        "print(\"\\nAnteprima del dataset:\")\n",
        "print(df)\n",
        "\n",
        "# Visualizzazione con Matplotlib\n",
        "import matplotlib.pyplot as plt\n",
        "\n",
        "accessibilita_counts.plot(kind='bar')\n",
        "plt.title('Accessibilità delle strutture')\n",
        "plt.xlabel('Accessibilità')\n",
        "plt.ylabel('Numero di strutture')\n",
        "plt.show()\n"
      ],
      "metadata": {
        "colab": {
          "base_uri": "https://localhost:8080/",
          "height": 817
        },
        "id": "YSWEiadQcAKE",
        "outputId": "373a0c96-8c03-40aa-aaf2-1fe707b8cbf2"
      },
      "execution_count": 9,
      "outputs": [
        {
          "output_type": "stream",
          "name": "stdout",
          "text": [
            "Dataset simulato salvato su Google Drive!\n",
            "Statistiche di accessibilità:\n",
            " Accessibile\n",
            "Sì    5\n",
            "Name: count, dtype: int64\n",
            "\n",
            "Anteprima del dataset:\n",
            "                      Nome                                        Descrizione  \\\n",
            "0        Hotel Roma Centro                  Accessibile con rampe e ascensore   \n",
            "1           B&B Trastevere         Non accessibile per persone con disabilità   \n",
            "2     Hotel Piazza Venezia      Accessibile con rampe, servizi per ipovedenti   \n",
            "3      Guesthouse Vaticano        Parzialmente accessibile, ascensore assente   \n",
            "4  Boutique Hotel Colosseo  Completamente accessibile, certificazione incl...   \n",
            "\n",
            "           Prezzo Accessibile  \n",
            "0  120€ per notte          Sì  \n",
            "1   80€ per notte          Sì  \n",
            "2  150€ per notte          Sì  \n",
            "3   90€ per notte          Sì  \n",
            "4  200€ per notte          Sì  \n"
          ]
        },
        {
          "output_type": "display_data",
          "data": {
            "text/plain": [
              "<Figure size 640x480 with 1 Axes>"
            ],
            "image/png": "[encoded data removed]"
          },
          "metadata": {}
        }
      ]
    }
  ]
}